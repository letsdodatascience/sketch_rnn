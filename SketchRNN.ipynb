{
 "cells": [
  {
   "cell_type": "code",
   "execution_count": 1,
   "metadata": {
    "collapsed": true
   },
   "outputs": [],
   "source": [
    "import numpy as np\n",
    "import torch\n",
    "from torch import nn\n",
    "from torch.autograd import Variable\n",
    "import torch.nn.functional as F\n",
    "from dataset import *\n",
    "from torch.utils.data import DataLoader\n",
    "import torch.distributions as dist\n",
    "from torch import optim"
   ]
  },
  {
   "cell_type": "code",
   "execution_count": 2,
   "metadata": {
    "collapsed": true
   },
   "outputs": [],
   "source": [
    "%matplotlib inline\n",
    "import matplotlib.pyplot as plt"
   ]
  },
  {
   "cell_type": "code",
   "execution_count": 3,
   "metadata": {
    "collapsed": false
   },
   "outputs": [],
   "source": [
    "dataset = np.load(\"sketchrnn-cat.full.npz\", encoding='latin1')\n",
    "data = np.concatenate((dataset['train'],dataset['valid'],dataset['test']))\n",
    "data = purify(data)\n",
    "data = normalize(data)\n",
    "Nmax = max_size(data)"
   ]
  },
  {
   "cell_type": "code",
   "execution_count": 4,
   "metadata": {
    "collapsed": true
   },
   "outputs": [],
   "source": [
    "class Encoder(nn.Module):\n",
    "    def __init__(self,\n",
    "                 hidden_size=256,\n",
    "                 z_size=128,\n",
    "                 dropout=0.5):\n",
    "        super(Encoder, self).__init__()\n",
    "        self.hidden_size = hidden_size\n",
    "        self.z_size = z_size\n",
    "        self.rnn = nn.GRU(5, self.hidden_size, dropout=dropout, bidirectional=True, batch_first=True)\n",
    "        self.fc_mu = nn.Linear(2*self.hidden_size, self.z_size)\n",
    "        self.fc_logvar = nn.Linear(2*self.hidden_size, self.z_size)\n",
    "        \n",
    "    def forward(self,inputs):\n",
    "        _, hidden = self.rnn(inputs)\n",
    "        hidden_cat = torch.cat(hidden.split(1,0),2).squeeze(0)\n",
    "        mu = self.fc_mu(hidden_cat)\n",
    "        logvar = self.fc_logvar(hidden_cat)\n",
    "        return mu,logvar"
   ]
  },
  {
   "cell_type": "code",
   "execution_count": 5,
   "metadata": {
    "collapsed": true
   },
   "outputs": [],
   "source": [
    "class Decoder(nn.Module):\n",
    "    def __init__(self,\n",
    "                 hidden_size=256,\n",
    "                 z_size=128,\n",
    "                 dropout=0.5):\n",
    "        super(Decoder, self).__init__()\n",
    "        self.rnn = nn.GRU(z_size+5, hidden_size, dropout=dropout, batch_first=True)\n",
    "        self.fc = nn.Linear(z_size,hidden_size)\n",
    "        \n",
    "    def init_state(self,z):\n",
    "        return F.tanh(self.fc(z).unsqueeze(0))\n",
    "    \n",
    "    def forward(self,inputs,z):\n",
    "        hidden = self.init_state(z)\n",
    "        zs = z.unsqueeze(1).expand(-1,inputs.size(1),-1)\n",
    "        inputs_z = torch.cat([inputs,zs],dim=2)\n",
    "        return self.rnn(inputs_z,hidden)"
   ]
  },
  {
   "cell_type": "code",
   "execution_count": 6,
   "metadata": {
    "collapsed": true
   },
   "outputs": [],
   "source": [
    "class SketchRNN(nn.Module):\n",
    "    def __init__(self,\n",
    "                 enc_hidden_size=256,\n",
    "                 dec_hidden_size=512,\n",
    "                 z_size=128,\n",
    "                 dropout=0.5,\n",
    "                 M=20):\n",
    "        super(SketchRNN, self).__init__()\n",
    "        self.dec_hidden_size = dec_hidden_size\n",
    "        self.M = M\n",
    "        self.encoder = Encoder(enc_hidden_size,z_size,dropout)\n",
    "        self.decoder = Decoder(dec_hidden_size,z_size,dropout)\n",
    "        self.gmm = nn.Linear(dec_hidden_size,6*M+3)\n",
    "        \n",
    "    def forward(self,inputs):\n",
    "        enc_inputs = inputs[:,1:,:]\n",
    "        mu,logvar = self.encoder(enc_inputs)\n",
    "        z = self.reparameterize(mu,logvar)\n",
    "        \n",
    "        dec_inputs = inputs[:,:-1,:]\n",
    "        outputs,_ = self.decoder(dec_inputs,z)\n",
    "        outputs = self.gmm(outputs.contiguous().view(-1,self.dec_hidden_size))\n",
    "        o_pi, o_mu1, o_mu2, o_sigma1, o_sigma2, o_corr, o_pen, o_pen_logits = self.get_mixture_coef(outputs)\n",
    "        \n",
    "        return z, mu, logvar ,o_pi, o_mu1, o_mu2, o_sigma1, o_sigma2, o_corr, o_pen, o_pen_logits\n",
    "    \n",
    "    def reparameterize(self, mu, logvar):\n",
    "        if self.training:\n",
    "            std = logvar.mul(0.5).exp_()\n",
    "            eps = Variable(std.data.new(std.size()).normal_())\n",
    "            return eps.mul(std).add_(mu)\n",
    "        else:\n",
    "            return mu\n",
    "        \n",
    "    def get_mixture_coef(self,outputs):\n",
    "        z_pen_logits = outputs[:, 0:3]  # pen states\n",
    "        z_pi, z_mu1, z_mu2, z_sigma1, z_sigma2, z_corr = torch.split(outputs[:, 3:], self.M, 1)\n",
    "        # process output z's into MDN paramters\n",
    "\n",
    "        # softmax all the pi's and pen states:\n",
    "        z_pi = F.softmax(z_pi,1)\n",
    "        z_pen = F.softmax(z_pen_logits,1)\n",
    "\n",
    "        # exponentiate the sigmas and also make corr between -1 and 1.\n",
    "        z_sigma1 = torch.exp(z_sigma1)\n",
    "        z_sigma2 = torch.exp(z_sigma2)\n",
    "        z_corr = F.tanh(z_corr)\n",
    "\n",
    "        r = [z_pi, z_mu1, z_mu2, z_sigma1, z_sigma2, z_corr, z_pen, z_pen_logits]\n",
    "        return r\n",
    "    \n",
    "    def generate(self,seq_len,z,temp=0.5):\n",
    "        sample = Variable(torch.Tensor([0,0,1,0,0]),requires_grad=False).view(1,1,5).cuda()\n",
    "        hidden = self.decoder.init_state(z)\n",
    "        \n",
    "        def bivariate_normal(m1,m2,s1,s2,rho,temp=1.0):\n",
    "            mean = [m1, m2]\n",
    "            s1 *= temp * temp\n",
    "            s2 *= temp * temp\n",
    "            cov = [[s1 * s1, rho * s1 * s2], [rho * s1 * s2, s2 * s2]]\n",
    "            x = np.random.multivariate_normal(mean, cov, 1,check_valid='ignore')\n",
    "            return x[0][0], x[0][1]\n",
    "        \n",
    "        def adjust_temp(pdf):\n",
    "            pdf = pdf.log().div(temp)\n",
    "            pdf -= pdf.max()\n",
    "            pdf = pdf.exp()\n",
    "            pdf /= pdf.sum()\n",
    "            return pdf\n",
    "        \n",
    "        for _ in range(seq_len):\n",
    "            inputs = sample[:,-1:,:]\n",
    "            inputs_z = torch.cat([inputs,z.unsqueeze(1)],dim=2)\n",
    "            outputs,hidden = self.decoder.rnn(inputs_z,hidden)\n",
    "            outputs = self.gmm(outputs.contiguous().view(-1,self.dec_hidden_size))\n",
    "            o_pi, o_mu1, o_mu2, o_sigma1, o_sigma2, o_corr, o_pen, o_pen_logits = self.get_mixture_coef(outputs)\n",
    "            \n",
    "            state = Variable(torch.zeros(1,1,5),requires_grad=False).cuda()\n",
    "            pen_status = dist.Categorical(adjust_temp(o_pen.view(-1))).sample()\n",
    "            state[:,:,pen_status.data[0]+2] = 1\n",
    "            \n",
    "            M_id = dist.Categorical(adjust_temp(o_pi.view(-1))).sample().data[0]\n",
    "            mu_1 = o_mu1[0,M_id].data\n",
    "            mu_2 = o_mu2[0,M_id].data\n",
    "            sigma_1 = o_sigma1[0,M_id].data\n",
    "            sigma_2 = o_sigma2[0,M_id].data\n",
    "            o_corr = o_corr[0,M_id].data\n",
    "           \n",
    "            x,y = bivariate_normal(mu_1,mu_2,sigma_1,sigma_2,o_corr,temp=temp)\n",
    "            state[:,:,0] = x\n",
    "            state[:,:,1] = y\n",
    "            \n",
    "            sample = torch.cat([sample,state],dim=1)\n",
    "            \n",
    "            if pen_status.cpu().data.numpy() == 2:\n",
    "                break\n",
    "        return sample"
   ]
  },
  {
   "cell_type": "code",
   "execution_count": 7,
   "metadata": {
    "collapsed": false
   },
   "outputs": [],
   "source": [
    "def get_lossfunc(z_pi, z_mu1, z_mu2, z_sigma1, z_sigma2, z_corr,\n",
    "                     z_pen_logits, x1_data, x2_data, pen_data):\n",
    "        \"\"\"Returns a loss fn based on eq #26 of http://arxiv.org/abs/1308.0850.\"\"\"\n",
    "        # This represents the L_R only (i.e. does not include the KL loss term).\n",
    "        \n",
    "        def normal_2d(x1, x2, mu1, mu2, s1, s2, rho):\n",
    "            \"\"\"Returns result of eq # 24 of http://arxiv.org/abs/1308.0850.\"\"\"\n",
    "            norm1 = x1 - mu1\n",
    "            norm2 = x2 - mu2\n",
    "            s1s2 = s1*s2\n",
    "            # eq 25\n",
    "            z = norm1.div(s1).pow(2) + norm2.div(s2).pow(2) - 2*(rho*norm1*norm2).div(s1s2)\n",
    "            neg_rho = 1 - rho.pow(2)\n",
    "            result = (-z).div(2*neg_rho).exp()\n",
    "            denom = 2 * np.pi * s1s2 * torch.sqrt(neg_rho)\n",
    "            result = result.div(denom)\n",
    "            return result\n",
    "        \n",
    "        result0 = normal_2d(x1_data, x2_data, z_mu1, z_mu2, z_sigma1, z_sigma2,z_corr)\n",
    "        epsilon = 1e-6\n",
    "        # result1 is the loss wrt pen offset (L_s in equation 9 of\n",
    "        # https://arxiv.org/pdf/1704.03477.pdf)\n",
    "        result1 = result0*z_pi\n",
    "        result1 = torch.sum(result1, 1)\n",
    "        result1 = -torch.log(result1 + epsilon)  # avoid log(0)\n",
    "        \n",
    "        fs = 1.0 - pen_data[:, 2]  # use training data for this\n",
    "        result1 = result1*fs\n",
    "        result1_mean = result1.sum() / fs.sum()\n",
    "        \n",
    "        _,labels = pen_data.max(1)\n",
    "        result2 = F.cross_entropy(z_pen_logits,labels)\n",
    "        \n",
    "        result = result1_mean + result2\n",
    "        return result\n",
    "    \n",
    "def KLD(mu,logvar):\n",
    "    return -0.5 * torch.sum(1 + logvar - mu.pow(2) - logvar.exp())    "
   ]
  },
  {
   "cell_type": "code",
   "execution_count": 8,
   "metadata": {
    "collapsed": false
   },
   "outputs": [],
   "source": [
    "sketch = Sketch(data)\n",
    "training_data = DataLoader(sketch ,batch_size=100, shuffle=True,collate_fn=collate_fn_, num_workers=8)"
   ]
  },
  {
   "cell_type": "code",
   "execution_count": 9,
   "metadata": {
    "collapsed": false
   },
   "outputs": [],
   "source": [
    "model = SketchRNN().cuda()\n",
    "train_step = optim.Adam(model.parameters(),lr=1e-3)\n",
    "scheduler = optim.lr_scheduler.StepLR(train_step, step_size=30, gamma=0.9999)"
   ]
  },
  {
   "cell_type": "code",
   "execution_count": 10,
   "metadata": {
    "collapsed": false,
    "scrolled": true
   },
   "outputs": [
    {
     "name": "stdout",
     "output_type": "stream",
     "text": [
      "1.0148291881\n",
      "0.613580027351\n",
      "0.521526919768\n",
      "0.47099332795\n",
      "0.437252658568\n",
      "0.412678551711\n",
      "0.392044629788\n",
      "0.374888725137\n",
      "0.361230455767\n",
      "0.349945780726\n",
      "0.339207209366\n",
      "0.330102196783\n",
      "0.321634333775\n",
      "0.314487990975\n",
      "0.307335757736\n",
      "0.301285048877\n",
      "0.295516633862\n",
      "0.290063889981\n",
      "0.28565707762\n",
      "0.280707580203\n",
      "0.276509488821\n",
      "0.272658989502\n",
      "0.269441734725\n",
      "0.265327345453\n",
      "0.262150039512\n",
      "0.259774208905\n",
      "0.255300832936\n",
      "0.25280044906\n",
      "0.249871486293\n",
      "0.247451776261\n",
      "0.245164624531\n",
      "0.241674987128\n",
      "0.239670852015\n",
      "0.236872987036\n",
      "0.23514169181\n",
      "0.23341007435\n",
      "0.231106347353\n",
      "0.22918179862\n",
      "0.226658948007\n",
      "0.224976391603\n",
      "0.223469707372\n",
      "0.221796380092\n",
      "0.21954984036\n",
      "0.217814892718\n",
      "0.21640017226\n",
      "0.2149339855\n",
      "0.212672480695\n",
      "0.211128082655\n",
      "0.209773846004\n",
      "0.208511355228\n",
      "0.207444915645\n",
      "0.205929920525\n",
      "0.204144011113\n",
      "0.202688226787\n",
      "0.201688752963\n",
      "0.200236076098\n",
      "0.199031938596\n",
      "0.197649682907\n",
      "0.195966648965\n",
      "0.195168980763\n",
      "0.193783319771\n",
      "0.193000377074\n",
      "0.191425373835\n",
      "0.190378248598\n",
      "0.189192408472\n",
      "0.188084842152\n",
      "0.186965998617\n",
      "0.186227007443\n",
      "0.184306686206\n",
      "0.183062709594\n",
      "0.182883928752\n",
      "0.18145886937\n",
      "0.180442304429\n",
      "0.179988028612\n",
      "0.177962848251\n",
      "0.177754756351\n",
      "0.176879441081\n",
      "0.175749950124\n",
      "0.174680074312\n",
      "0.173977338941\n",
      "0.172194548988\n",
      "0.171925622167\n",
      "0.171068351067\n",
      "0.169590594752\n",
      "0.169046387003\n",
      "0.168166580638\n",
      "0.167224946908\n",
      "0.165966552132\n",
      "0.165141246664\n",
      "0.164240548029\n",
      "0.164285479973\n",
      "0.16287783756\n",
      "0.161668399794\n",
      "0.161595789324\n",
      "0.160140895791\n",
      "0.16071019311\n",
      "0.159005839398\n",
      "0.158221026384\n",
      "0.159446702297\n",
      "0.156391197866\n"
     ]
    }
   ],
   "source": [
    "model.train()\n",
    "g_step = 0\n",
    "\n",
    "for epcoch in range(100):\n",
    "    loss_ = []\n",
    "    \n",
    "    for data in training_data:\n",
    "        data = Variable(data).cuda()\n",
    "        z, mu, logvar, o_pi, o_mu1, o_mu2, o_sigma1, o_sigma2, o_corr, o_pen, o_pen_logits = model(data)\n",
    "        \n",
    "        target = data[:,1:,:]\n",
    "        target = target.contiguous().view(-1,5)\n",
    "        x1_data, x2_data, eos_data, eoc_data, cont_data = target.split(1,1)\n",
    "        pen_data = torch.cat([eos_data, eoc_data, cont_data], 1)\n",
    "        \n",
    "        kl_loss = KLD(mu,logvar)\n",
    "        rec_loss = get_lossfunc(o_pi, o_mu1, o_mu2, o_sigma1, o_sigma2, \n",
    "                                o_corr,o_pen_logits, x1_data, x2_data, pen_data)\n",
    "        \n",
    "        eta_step = 1 - (1 - 0.01)*(0.9995**g_step)\n",
    "        loss = rec_loss + 0.5*eta_step*torch.max(kl_loss,Variable(torch.Tensor([0.2])).cuda().detach())\n",
    "        \n",
    "        train_step.zero_grad()\n",
    "        loss.backward()\n",
    "        for p in model.parameters():\n",
    "            p.grad.data.clamp_(-1,1)\n",
    "        train_step.step()\n",
    "        scheduler.step()\n",
    "        loss_.append(loss.data[0])\n",
    "        g_step+=1\n",
    "    \n",
    "    if epcoch % 1 ==0:\n",
    "        print np.mean(loss_)"
   ]
  },
  {
   "cell_type": "code",
   "execution_count": 11,
   "metadata": {
    "collapsed": false
   },
   "outputs": [
    {
     "data": {
      "text/plain": [
       "SketchRNN(\n",
       "  (encoder): Encoder(\n",
       "    (rnn): GRU(5, 256, batch_first=True, dropout=0.5, bidirectional=True)\n",
       "    (fc_mu): Linear(in_features=512, out_features=128)\n",
       "    (fc_logvar): Linear(in_features=512, out_features=128)\n",
       "  )\n",
       "  (decoder): Decoder(\n",
       "    (rnn): GRU(133, 512, batch_first=True, dropout=0.5)\n",
       "    (fc): Linear(in_features=128, out_features=512)\n",
       "  )\n",
       "  (gmm): Linear(in_features=512, out_features=123)\n",
       ")"
      ]
     },
     "execution_count": 11,
     "metadata": {},
     "output_type": "execute_result"
    }
   ],
   "source": [
    "model.eval()"
   ]
  },
  {
   "cell_type": "code",
   "execution_count": 53,
   "metadata": {
    "collapsed": false
   },
   "outputs": [
    {
     "data": {
      "image/png": "[encoded data removed]",
      "text/plain": [
       "<matplotlib.figure.Figure at 0x7f2299a28450>"
      ]
     },
     "metadata": {},
     "output_type": "display_data"
    }
   ],
   "source": [
    "s = model.generate(250,Variable(torch.randn(1,128)).cuda(),temp=0.4)\n",
    "s = s[0]\n",
    "x = np.cumsum(s.cpu().data.numpy()[:,0])\n",
    "y = np.cumsum(s.cpu().data.numpy()[:,1])\n",
    "\n",
    "for i in range(1,s.size(0)):\n",
    "    if s.cpu().data.numpy()[i,2]:\n",
    "        plt.plot(x[i:i+2],-y[i:i+2])"
   ]
  },
  {
   "cell_type": "code",
   "execution_count": 69,
   "metadata": {
    "collapsed": false
   },
   "outputs": [
    {
     "data": {
      "image/png": "[encoded data removed]",
      "text/plain": [
       "<matplotlib.figure.Figure at 0x7f2300edced0>"
      ]
     },
     "metadata": {},
     "output_type": "display_data"
    }
   ],
   "source": [
    "s = model.generate(250,z[:1],temp=0.6)\n",
    "s = s[0]\n",
    "x = np.cumsum(s.cpu().data.numpy()[:,0])\n",
    "y = np.cumsum(s.cpu().data.numpy()[:,1])\n",
    "\n",
    "for i in range(1,s.size(0)):\n",
    "    if s.cpu().data.numpy()[i,2]:\n",
    "        plt.plot(x[i:i+2],-y[i:i+2])"
   ]
  },
  {
   "cell_type": "code",
   "execution_count": 37,
   "metadata": {
    "collapsed": false
   },
   "outputs": [],
   "source": [
    "torch.save(model.state_dict(),'model_full.pth')"
   ]
  },
  {
   "cell_type": "code",
   "execution_count": null,
   "metadata": {
    "collapsed": true
   },
   "outputs": [],
   "source": []
  }
 ],
 "metadata": {
  "kernelspec": {
   "display_name": "Python 2",
   "language": "python",
   "name": "python2"
  },
  "language_info": {
   "codemirror_mode": {
    "name": "ipython",
    "version": 2
   },
   "file_extension": ".py",
   "mimetype": "text/x-python",
   "name": "python",
   "nbconvert_exporter": "python",
   "pygments_lexer": "ipython2",
   "version": "2.7.13"
  }
 },
 "nbformat": 4,
 "nbformat_minor": 2
}
